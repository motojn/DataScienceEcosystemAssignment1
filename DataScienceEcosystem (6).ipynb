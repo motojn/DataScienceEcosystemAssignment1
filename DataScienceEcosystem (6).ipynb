{
 "cells": [
  {
   "cell_type": "markdown",
   "id": "9ec86ea8-1ee9-4eb6-a362-e37adf8886ad",
   "metadata": {},
   "source": [
    "#Data Science Tools and Ecosystem"
   ]
  },
  {
   "cell_type": "markdown",
   "id": "59a7262b-9a51-4e4e-a96b-b95fc5f3d14d",
   "metadata": {},
   "source": [
    "#In this notebook, Data Science Tools and Ecosystem are Summarized"
   ]
  },
  {
   "cell_type": "markdown",
   "id": "3219d518-cf18-4d91-8a36-501260274c1d",
   "metadata": {},
   "source": [
    "**Objectives**\n",
    "* list popular languages for Data Science\n",
    "* list commonly used libraries\n",
    "* create a single column table\n",
    "* perform basic arithmetic expressions"
   ]
  },
  {
   "cell_type": "markdown",
   "id": "1bf62fb1-ef8b-4eb8-bed6-20c1384c9d67",
   "metadata": {},
   "source": [
    "#Some of the popular languages that Data Scientists use are\n",
    "1. Python\n",
    "2. R\n",
    "3. SQL\n",
    "4. Julia\n",
    "5. Scala\n",
    "6. MATLAB"
   ]
  },
  {
   "cell_type": "markdown",
   "id": "dac041bf-66be-44b9-88fa-0b1dd3dd1f2e",
   "metadata": {},
   "source": [
    "#Some of the commonly used libraries used by Data Scientists include:\n",
    "1. Numpy\n",
    "2. Pandas\n",
    "3. Matplotlib\n",
    "4. TensorFlow\n",
    "5. SciPy    "
   ]
  },
  {
   "cell_type": "markdown",
   "id": "5458a1ad-8c4a-4716-b414-bd2d8385b4dc",
   "metadata": {},
   "source": [
    "|Data Science Tools|\n",
    "|-----------------|\n",
    "|Visual Studio Code |\n",
    "|Jupyter Notebook|\n",
    "|RStudio|"
   ]
  },
  {
   "cell_type": "markdown",
   "id": "1ed77178-815c-48da-bc3d-dce929e565f7",
   "metadata": {},
   "source": [
    "#Below are a few examples of evaluating arithmetic expressions in python"
   ]
  },
  {
   "cell_type": "code",
   "execution_count": 3,
   "id": "ab22dbec-9ee2-418f-9753-8700d2311630",
   "metadata": {},
   "outputs": [
    {
     "name": "stdout",
     "output_type": "stream",
     "text": [
      "17\n"
     ]
    }
   ],
   "source": [
    "#This is a simple arithmetic expression to multiply then add integers\n",
    "x = 3\n",
    "y = 4\n",
    "z = 5\n",
    "res = (x*y) + z\n",
    "print(res)"
   ]
  },
  {
   "cell_type": "code",
   "execution_count": 5,
   "id": "6f1bcf47-1011-4950-8742-99e2b6678ef6",
   "metadata": {},
   "outputs": [
    {
     "name": "stdout",
     "output_type": "stream",
     "text": [
      "3.3333333333333335\n"
     ]
    }
   ],
   "source": [
    "# This code convert 200 minutes to hours by dividing by 60\n",
    "minutes = 200\n",
    "hr = 60\n",
    "hrs = minutes/hr\n",
    "print(hrs)"
   ]
  },
  {
   "cell_type": "markdown",
   "id": "0c9ab939-90aa-4cca-b381-50f07cd9aac2",
   "metadata": {},
   "source": [
    "## Author\n",
    "John Moto"
   ]
  }
 ],
 "metadata": {
  "kernelspec": {
   "display_name": "Python 3 (ipykernel)",
   "language": "python",
   "name": "python3"
  },
  "language_info": {
   "codemirror_mode": {
    "name": "ipython",
    "version": 3
   },
   "file_extension": ".py",
   "mimetype": "text/x-python",
   "name": "python",
   "nbconvert_exporter": "python",
   "pygments_lexer": "ipython3",
   "version": "3.12.4"
  }
 },
 "nbformat": 4,
 "nbformat_minor": 5
}
